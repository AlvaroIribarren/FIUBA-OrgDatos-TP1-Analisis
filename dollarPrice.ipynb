{
 "cells": [
  {
   "cell_type": "code",
   "execution_count": 27,
   "metadata": {},
   "outputs": [],
   "source": [
    "import pandas as pd\n",
    "path = '/home/alvaro/Escritorio/FIUBA/Programación/Organizacion de datos'\n",
    "df= pd.read_csv(path + '/train.csv', nrows=1000)"
   ]
  },
  {
   "cell_type": "code",
   "execution_count": 28,
   "metadata": {},
   "outputs": [],
   "source": [
    "#Fuente: https://es.investing.com/currencies/usd-mxn-historical-data\n",
    "path1 = '/home/alvaro/Descargas'\n",
    "dolar= pd.read_csv(path1 + '/Datos históricos USD_MXN.csv')\n",
    "dolar.columns = [\"fecha\", \"last\", \"opening\", \"max\", \"min\", \"std\"]\n",
    "dolar.drop([\"std\", \"opening\"], axis=1 ,inplace=True)"
   ]
  },
  {
   "cell_type": "code",
   "execution_count": 29,
   "metadata": {},
   "outputs": [],
   "source": [
    "dolar['year'] = pd.to_datetime(dolar['fecha'], format=\"%b %Y\")\n",
    "d1 = dolar.drop([\"max\", \"min\", \"fecha\"], axis=1)\n",
    "d1.columns= ['price', \"date\"]\n",
    "d1['price'] = d1['price'].replace(',', '.', regex=True).astype(float)"
   ]
  },
  {
   "cell_type": "code",
   "execution_count": 31,
   "metadata": {},
   "outputs": [],
   "source": [
    "d1[\"year\"] = d1.date.dt.year\n",
    "d1[\"month\"] = d1.date.dt.month\n",
    "df['year'] = pd.to_datetime(df['fecha']).dt.year\n",
    "df['month'] = pd.to_datetime(df['fecha']).dt.month"
   ]
  },
  {
   "cell_type": "code",
   "execution_count": 32,
   "metadata": {},
   "outputs": [],
   "source": [
    "newDf= pd.merge(df, d1, on='year', how='left')\n",
    "newDf[\"dollar_price\"] = newDf.apply(lambda row: row[\"precio\"]/row[\"price\"], axis=1)"
   ]
  }
 ],
 "metadata": {
  "kernelspec": {
   "display_name": "Python 3",
   "language": "python",
   "name": "python3"
  },
  "language_info": {
   "codemirror_mode": {
    "name": "ipython",
    "version": 3
   },
   "file_extension": ".py",
   "mimetype": "text/x-python",
   "name": "python",
   "nbconvert_exporter": "python",
   "pygments_lexer": "ipython3",
   "version": "3.7.3"
  }
 },
 "nbformat": 4,
 "nbformat_minor": 2
}
