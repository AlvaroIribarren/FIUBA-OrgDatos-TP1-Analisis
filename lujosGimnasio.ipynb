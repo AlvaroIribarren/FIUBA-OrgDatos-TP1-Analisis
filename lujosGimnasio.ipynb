{
 "cells": [
  {
   "cell_type": "code",
   "execution_count": 130,
   "metadata": {},
   "outputs": [],
   "source": [
    "import pandas as pd\n",
    "import numpy as np\n",
    "import seaborn as sns\n",
    "path = '/home/alvaro/Escritorio/FIUBA/Programación/Organizacion de datos'\n",
    "df= pd.read_csv(path + '/train.csv')\n",
    "dfasd=df\n",
    "#Fuente: https://es.investing.com/currencies/usd-mxn-historical-data\n",
    "#AGREGAR EL PATH CORRESPONDIENTE\n",
    "path1 = '/home/alvaro/Descargas'\n",
    "dolar= pd.read_csv(path1 + '/Datos históricos USD_MXN.csv')\n",
    "dolar.columns = [\"fecha\", \"last\", \"opening\", \"max\", \"min\", \"std\"]\n",
    "dolar.drop([\"std\", \"opening\", \"opening\", \"max\", \"min\"], axis=1 ,inplace=True)\n",
    "#Paso a formato fecha correctamente y luego creo columnas mes y año\n",
    "dolar['date'] = pd.to_datetime(dolar['fecha'], format=\"%b %Y\")\n",
    "dolar.drop([\"fecha\"], axis=1, inplace=True)\n",
    "dolar.columns= ['price', \"date\"]\n",
    "#El csv ponia los numeros con punto en vez de coma.\n",
    "dolar['price'] = dolar['price'].replace(',', '.', regex=True).astype(float)\n",
    "dolar[\"year\"] = dolar.date.dt.year\n",
    "dolar['month'] = dolar.date.dt.month\n",
    "dolar.drop([\"date\"], axis=1, inplace=True)\n",
    "df['fecha'] = pd.to_datetime(df['fecha'])\n",
    "df['year'] = df['fecha'].dt.year\n",
    "df['month']= df['fecha'].dt.month\n",
    "#Agrego la columna precio en dolar por propiedad, en el dataframe original\n",
    "newDf= pd.merge(df, dolar, on=['year', 'month'], how='left')\n",
    "newDf[\"dollar_price\"] = newDf.apply(lambda row: row[\"precio\"]/row[\"price\"], axis=1)\n",
    "#Filtro dejando las cosas útiles.\n",
    "#Para agregar una columna, se debe agregar aca y luego agregarla al merge\n",
    "df = newDf.filter([\"id\", \"tipodepropiedad\", \"habitaciones\",'garages', 'banos', 'ciudad',\n",
    "                   'provincia','metroscubiertos', 'metrostotales', 'idzona', 'fecha',\n",
    "                   'gimnasio', 'usosmultiples', 'piscina', 'escuelascercanas',\n",
    "                   'centroscomercialescercanos', 'dollar_price' ])\n",
    "def asignarMetros(metroscubiertos, metrostotales):\n",
    "    if (metroscubiertos != 0 and metrostotales == 0):\n",
    "        return metroscubiertos\n",
    "    else:\n",
    "        return metrostotales\n",
    "    \n",
    "#Arreglando, no pueden haber propiedades con metros cubiertos pero sin metros totales\n",
    "df['metrostotales'].fillna(0, inplace=True)\n",
    "df['metrostotales'] = df.apply(lambda x: asignarMetros(x['metroscubiertos'],x['metrostotales']),axis=1)\n",
    "df.head()\n",
    "#Filtrando el garage, lotes, hospedaje, otros\n",
    "filtroTerreno = df[\"tipodepropiedad\"].isin([\"Huerta\", \"Nave industrial\", \"Terreno\", \"Terreno comercial\", \n",
    "                                            \"Bodega comercial\", \"Terreno industrial\"])\n",
    "dfTerreno = df[filtroTerreno]\n",
    "dfTerreno.tipodepropiedad.value_counts()\n",
    "#Dropeo todos los terrenos que tienen habitaciones ya que si las tienen no serian terrenos.\n",
    "dfTerreno = dfTerreno[dfTerreno[\"habitaciones\"].isna()]\n",
    "dfTerreno.tipodepropiedad.value_counts()\n",
    "#Limpiando las propiedades tipo casa, no pueden no tener al menos una habitacion o baño y no pueden\n",
    "#tener metros no cubiertos\n",
    "filtro1 = df[\"tipodepropiedad\"].isin([\"Apartamento\", \"Casa\", \"Casa en condominio\", \"Edificio\"\n",
    "                                        \"Casa uso de suelo\", \"Rancho\", \"Quinta Vacacional\"])\n",
    "dfCasas = df[filtro1]\n",
    "dfCasas = dfCasas[np.isfinite(dfCasas['habitaciones'])]\n",
    "dfCasas = dfCasas[np.isfinite(dfCasas['banos'])]\n",
    "dfCasas = dfCasas[np.isfinite(dfCasas['metroscubiertos'])]\n",
    "dfCasas.garages.fillna(0, inplace=True)\n",
    "df = pd.merge(dfCasas, dfTerreno, on=['id', 'tipodepropiedad', 'habitaciones', 'garages', 'banos', 'metroscubiertos'\n",
    "                                      ,'ciudad','provincia','metrostotales','idzona','fecha', 'gimnasio','usosmultiples',\n",
    "                                       'piscina','escuelascercanas','centroscomercialescercanos', 'dollar_price'], how='outer')"
   ]
  },
  {
   "cell_type": "code",
   "execution_count": 131,
   "metadata": {},
   "outputs": [
    {
     "data": {
      "text/plain": [
       "Casa                             141717\n",
       "Apartamento                       57341\n",
       "Casa en condominio                19297\n",
       "Terreno                            9945\n",
       "Local Comercial                    3055\n",
       "Oficina comercial                  1741\n",
       "Bodega comercial                   1406\n",
       "Edificio                           1396\n",
       "Terreno comercial                  1326\n",
       "Casa uso de suelo                   708\n",
       "Quinta Vacacional                   395\n",
       "Duplex                              343\n",
       "Villa                               340\n",
       "Inmuebles productivos urbanos       200\n",
       "Rancho                              170\n",
       "Local en centro comercial           165\n",
       "Departamento Compartido             141\n",
       "Otros                               134\n",
       "Nave industrial                      76\n",
       "Terreno industrial                   31\n",
       "Huerta                               20\n",
       "Lote                                  5\n",
       "Garage                                1\n",
       "Hospedaje                             1\n",
       "Name: tipodepropiedad, dtype: int64"
      ]
     },
     "execution_count": 131,
     "metadata": {},
     "output_type": "execute_result"
    }
   ],
   "source": [
    "dfasd.tipodepropiedad.value_counts()"
   ]
  },
  {
   "cell_type": "code",
   "execution_count": 151,
   "metadata": {},
   "outputs": [],
   "source": [
    "def cambiarNombre(word):\n",
    "    if(word == 1.0):\n",
    "        return \"Con gimnasio\"\n",
    "    else:\n",
    "        return \"Sin gimnasio\""
   ]
  },
  {
   "cell_type": "code",
   "execution_count": 148,
   "metadata": {},
   "outputs": [
    {
     "data": {
      "text/html": [
       "<div>\n",
       "<style scoped>\n",
       "    .dataframe tbody tr th:only-of-type {\n",
       "        vertical-align: middle;\n",
       "    }\n",
       "\n",
       "    .dataframe tbody tr th {\n",
       "        vertical-align: top;\n",
       "    }\n",
       "\n",
       "    .dataframe thead th {\n",
       "        text-align: right;\n",
       "    }\n",
       "</style>\n",
       "<table border=\"1\" class=\"dataframe\">\n",
       "  <thead>\n",
       "    <tr style=\"text-align: right;\">\n",
       "      <th></th>\n",
       "      <th>tipodepropiedad</th>\n",
       "      <th>amount</th>\n",
       "    </tr>\n",
       "  </thead>\n",
       "  <tbody>\n",
       "    <tr>\n",
       "      <th>0</th>\n",
       "      <td>Apartamento</td>\n",
       "      <td>7591</td>\n",
       "    </tr>\n",
       "    <tr>\n",
       "      <th>1</th>\n",
       "      <td>Casa</td>\n",
       "      <td>6105</td>\n",
       "    </tr>\n",
       "    <tr>\n",
       "      <th>2</th>\n",
       "      <td>Casa en condominio</td>\n",
       "      <td>1262</td>\n",
       "    </tr>\n",
       "  </tbody>\n",
       "</table>\n",
       "</div>"
      ],
      "text/plain": [
       "      tipodepropiedad  amount\n",
       "0         Apartamento    7591\n",
       "1                Casa    6105\n",
       "2  Casa en condominio    1262"
      ]
     },
     "execution_count": 148,
     "metadata": {},
     "output_type": "execute_result"
    }
   ],
   "source": [
    "filtroGimnasios = dfasd[\"gimnasio\"].isin([1.0])\n",
    "dfGim = dfasd[filtroGimnasios]\n",
    "#g = sns.catplot(x='tipodepropiedad', y='dollar_price', kind=\"bar\",  data=dfGim, height=4,aspect=2)\n",
    "group = dfGim.groupby(\"tipodepropiedad\").agg({\"tipodepropiedad\":{\"amount\" : \"count\"}})\n",
    "group.reset_index(inplace=True)\n",
    "group.columns = [\"tipodepropiedad\", \"amount\"]\n",
    "group = group[group[\"tipodepropiedad\"].isin([\"Apartamento\", \"Casa\", \"Casa en condominio\"])]\n",
    "group"
   ]
  },
  {
   "cell_type": "code",
   "execution_count": 149,
   "metadata": {},
   "outputs": [
    {
     "data": {
      "image/png": "[encoded data removed]",
      "text/plain": [
       "<Figure size 576x288 with 1 Axes>"
      ]
     },
     "metadata": {},
     "output_type": "display_data"
    }
   ],
   "source": [
    "g = sns.catplot(x='tipodepropiedad', y='amount',\n",
    "                kind=\"bar\",  data=group, height=4,aspect=2)"
   ]
  },
  {
   "cell_type": "code",
   "execution_count": 152,
   "metadata": {},
   "outputs": [
    {
     "name": "stderr",
     "output_type": "stream",
     "text": [
      "/home/alvaro/anaconda3/lib/python3.7/site-packages/ipykernel_launcher.py:2: SettingWithCopyWarning: \n",
      "A value is trying to be set on a copy of a slice from a DataFrame.\n",
      "Try using .loc[row_indexer,col_indexer] = value instead\n",
      "\n",
      "See the caveats in the documentation: http://pandas.pydata.org/pandas-docs/stable/indexing.html#indexing-view-versus-copy\n",
      "  \n"
     ]
    },
    {
     "data": {
      "image/png": "[encoded data removed]",
      "text/plain": [
       "<Figure size 1080x720 with 1 Axes>"
      ]
     },
     "metadata": {},
     "output_type": "display_data"
    }
   ],
   "source": [
    "dfPools = df[df.tipodepropiedad.isin([\"Apartamento\", \"Casa\", \"Casa en condominio\"])]\n",
    "dfPools[\"gimnasio\"] = dfPools.apply(lambda x: cambiarNombre(x['gimnasio']),axis=1)\n",
    "sns.set(font_scale=1.3)\n",
    "g = sns.catplot(x='tipodepropiedad', y='dollar_price', hue = \"gimnasio\",\n",
    "                kind=\"boxen\",  data=dfPools, height=4,aspect=2)\n",
    "g.fig.set_size_inches(15,10)"
   ]
  },
  {
   "cell_type": "code",
   "execution_count": 98,
   "metadata": {},
   "outputs": [
    {
     "name": "stderr",
     "output_type": "stream",
     "text": [
      "/home/alvaro/anaconda3/lib/python3.7/site-packages/ipykernel_launcher.py:1: SettingWithCopyWarning: \n",
      "A value is trying to be set on a copy of a slice from a DataFrame.\n",
      "Try using .loc[row_indexer,col_indexer] = value instead\n",
      "\n",
      "See the caveats in the documentation: http://pandas.pydata.org/pandas-docs/stable/indexing.html#indexing-view-versus-copy\n",
      "  \"\"\"Entry point for launching an IPython kernel.\n"
     ]
    }
   ],
   "source": []
  },
  {
   "cell_type": "code",
   "execution_count": 107,
   "metadata": {},
   "outputs": [
    {
     "data": {
      "text/plain": [
       "Sin piscina    0.908281\n",
       "Con piscina    0.091719\n",
       "Name: piscinaWord, dtype: float64"
      ]
     },
     "execution_count": 107,
     "metadata": {},
     "output_type": "execute_result"
    }
   ],
   "source": [
    "dfPools.piscinaWord.value_counts(normalize=True)"
   ]
  },
  {
   "cell_type": "code",
   "execution_count": null,
   "metadata": {},
   "outputs": [],
   "source": []
  }
 ],
 "metadata": {
  "kernelspec": {
   "display_name": "Python 3",
   "language": "python",
   "name": "python3"
  },
  "language_info": {
   "codemirror_mode": {
    "name": "ipython",
    "version": 3
   },
   "file_extension": ".py",
   "mimetype": "text/x-python",
   "name": "python",
   "nbconvert_exporter": "python",
   "pygments_lexer": "ipython3",
   "version": "3.7.3"
  }
 },
 "nbformat": 4,
 "nbformat_minor": 2
}
