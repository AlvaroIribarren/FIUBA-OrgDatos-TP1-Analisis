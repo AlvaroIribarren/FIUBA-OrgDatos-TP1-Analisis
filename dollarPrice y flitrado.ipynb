{
 "cells": [
  {
   "cell_type": "code",
   "execution_count": 281,
   "metadata": {},
   "outputs": [],
   "source": [
    "import pandas as pd\n",
    "import numpy as np\n",
    "path = '/home/alvaro/Escritorio/FIUBA/Programación/Organizacion de datos'\n",
    "df= pd.read_csv(path + '/train.csv')"
   ]
  },
  {
   "cell_type": "code",
   "execution_count": 282,
   "metadata": {},
   "outputs": [],
   "source": [
    "#Fuente: https://es.investing.com/currencies/usd-mxn-historical-data\n",
    "path1 = '/home/alvaro/Descargas'\n",
    "dolar= pd.read_csv(path1 + '/Datos históricos USD_MXN.csv')\n",
    "dolar.columns = [\"fecha\", \"last\", \"opening\", \"max\", \"min\", \"std\"]\n",
    "dolar.drop([\"std\", \"opening\", \"opening\", \"max\", \"min\"], axis=1 ,inplace=True)"
   ]
  },
  {
   "cell_type": "code",
   "execution_count": 283,
   "metadata": {},
   "outputs": [
    {
     "data": {
      "text/html": [
       "<div>\n",
       "<style scoped>\n",
       "    .dataframe tbody tr th:only-of-type {\n",
       "        vertical-align: middle;\n",
       "    }\n",
       "\n",
       "    .dataframe tbody tr th {\n",
       "        vertical-align: top;\n",
       "    }\n",
       "\n",
       "    .dataframe thead th {\n",
       "        text-align: right;\n",
       "    }\n",
       "</style>\n",
       "<table border=\"1\" class=\"dataframe\">\n",
       "  <thead>\n",
       "    <tr style=\"text-align: right;\">\n",
       "      <th></th>\n",
       "      <th>price</th>\n",
       "      <th>year</th>\n",
       "      <th>month</th>\n",
       "    </tr>\n",
       "  </thead>\n",
       "  <tbody>\n",
       "    <tr>\n",
       "      <th>0</th>\n",
       "      <td>18.7184</td>\n",
       "      <td>2018</td>\n",
       "      <td>9</td>\n",
       "    </tr>\n",
       "    <tr>\n",
       "      <th>1</th>\n",
       "      <td>19.0850</td>\n",
       "      <td>2018</td>\n",
       "      <td>8</td>\n",
       "    </tr>\n",
       "    <tr>\n",
       "      <th>2</th>\n",
       "      <td>18.6480</td>\n",
       "      <td>2018</td>\n",
       "      <td>7</td>\n",
       "    </tr>\n",
       "    <tr>\n",
       "      <th>3</th>\n",
       "      <td>19.9175</td>\n",
       "      <td>2018</td>\n",
       "      <td>6</td>\n",
       "    </tr>\n",
       "    <tr>\n",
       "      <th>4</th>\n",
       "      <td>19.9135</td>\n",
       "      <td>2018</td>\n",
       "      <td>5</td>\n",
       "    </tr>\n",
       "  </tbody>\n",
       "</table>\n",
       "</div>"
      ],
      "text/plain": [
       "     price  year  month\n",
       "0  18.7184  2018      9\n",
       "1  19.0850  2018      8\n",
       "2  18.6480  2018      7\n",
       "3  19.9175  2018      6\n",
       "4  19.9135  2018      5"
      ]
     },
     "execution_count": 283,
     "metadata": {},
     "output_type": "execute_result"
    }
   ],
   "source": [
    "dolar['date'] = pd.to_datetime(dolar['fecha'], format=\"%b %Y\")\n",
    "dolar.drop([\"fecha\"], axis=1, inplace=True)\n",
    "dolar.columns= ['price', \"date\"]\n",
    "dolar['price'] = dolar['price'].replace(',', '.', regex=True).astype(float)\n",
    "dolar[\"year\"] = dolar.date.dt.year\n",
    "dolar['month'] = dolar.date.dt.month\n",
    "dolar.drop([\"date\"], axis=1, inplace=True)\n",
    "dolar.head()"
   ]
  },
  {
   "cell_type": "code",
   "execution_count": 284,
   "metadata": {},
   "outputs": [],
   "source": [
    "df['fecha'] = pd.to_datetime(df['fecha'])\n",
    "df['year'] = df['fecha'].dt.year\n",
    "df['month']= df['fecha'].dt.month"
   ]
  },
  {
   "cell_type": "code",
   "execution_count": 285,
   "metadata": {},
   "outputs": [
    {
     "data": {
      "text/plain": [
       "Index(['id', 'titulo', 'descripcion', 'tipodepropiedad', 'direccion', 'ciudad',\n",
       "       'provincia', 'antiguedad', 'habitaciones', 'garages', 'banos',\n",
       "       'metroscubiertos', 'metrostotales', 'idzona', 'lat', 'lng', 'fecha',\n",
       "       'gimnasio', 'usosmultiples', 'piscina', 'escuelascercanas',\n",
       "       'centroscomercialescercanos', 'precio', 'year', 'month', 'price',\n",
       "       'dollar_price'],\n",
       "      dtype='object')"
      ]
     },
     "execution_count": 285,
     "metadata": {},
     "output_type": "execute_result"
    }
   ],
   "source": [
    "newDf= pd.merge(df, dolar, on=['year', 'month'], how='left')\n",
    "newDf[\"dollar_price\"] = newDf.apply(lambda row: row[\"precio\"]/row[\"price\"], axis=1)\n",
    "newDf.columns"
   ]
  },
  {
   "cell_type": "code",
   "execution_count": 286,
   "metadata": {},
   "outputs": [
    {
     "data": {
      "text/plain": [
       "Casa                             141717\n",
       "Apartamento                       57341\n",
       "Casa en condominio                19297\n",
       "Terreno                            9945\n",
       "Local Comercial                    3055\n",
       "Oficina comercial                  1741\n",
       "Bodega comercial                   1406\n",
       "Edificio                           1396\n",
       "Terreno comercial                  1326\n",
       "Casa uso de suelo                   708\n",
       "Quinta Vacacional                   395\n",
       "Duplex                              343\n",
       "Villa                               340\n",
       "Inmuebles productivos urbanos       200\n",
       "Rancho                              170\n",
       "Local en centro comercial           165\n",
       "Departamento Compartido             141\n",
       "Otros                               134\n",
       "Nave industrial                      76\n",
       "Terreno industrial                   31\n",
       "Huerta                               20\n",
       "Lote                                  5\n",
       "Garage                                1\n",
       "Hospedaje                             1\n",
       "Name: tipodepropiedad, dtype: int64"
      ]
     },
     "execution_count": 286,
     "metadata": {},
     "output_type": "execute_result"
    }
   ],
   "source": [
    "df = newDf.filter([\"id\", \"tipodepropiedad\", \"habitaciones\",'garages', 'banos', 'ciudad',\n",
    "                   'provincia','metroscubiertos', 'metrostotales', 'idzona', 'fecha',\n",
    "                   'gimnasio', 'usosmultiples', 'piscina', 'escuelascercanas',\n",
    "                   'centroscomercialescercanos', 'dollar_price' ])\n",
    "df[\"tipodepropiedad\"].value_counts()"
   ]
  },
  {
   "cell_type": "code",
   "execution_count": 287,
   "metadata": {},
   "outputs": [],
   "source": [
    "def asignarMetros(metroscubiertos, metrostotales):\n",
    "    if (metroscubiertos != 0 and metrostotales == 0):\n",
    "        return metroscubiertos\n",
    "    else:\n",
    "        return metrostotales"
   ]
  },
  {
   "cell_type": "code",
   "execution_count": 288,
   "metadata": {},
   "outputs": [
    {
     "data": {
      "text/html": [
       "<div>\n",
       "<style scoped>\n",
       "    .dataframe tbody tr th:only-of-type {\n",
       "        vertical-align: middle;\n",
       "    }\n",
       "\n",
       "    .dataframe tbody tr th {\n",
       "        vertical-align: top;\n",
       "    }\n",
       "\n",
       "    .dataframe thead th {\n",
       "        text-align: right;\n",
       "    }\n",
       "</style>\n",
       "<table border=\"1\" class=\"dataframe\">\n",
       "  <thead>\n",
       "    <tr style=\"text-align: right;\">\n",
       "      <th></th>\n",
       "      <th>id</th>\n",
       "      <th>tipodepropiedad</th>\n",
       "      <th>habitaciones</th>\n",
       "      <th>garages</th>\n",
       "      <th>banos</th>\n",
       "      <th>ciudad</th>\n",
       "      <th>provincia</th>\n",
       "      <th>metroscubiertos</th>\n",
       "      <th>metrostotales</th>\n",
       "      <th>idzona</th>\n",
       "      <th>fecha</th>\n",
       "      <th>gimnasio</th>\n",
       "      <th>usosmultiples</th>\n",
       "      <th>piscina</th>\n",
       "      <th>escuelascercanas</th>\n",
       "      <th>centroscomercialescercanos</th>\n",
       "      <th>dollar_price</th>\n",
       "    </tr>\n",
       "  </thead>\n",
       "  <tbody>\n",
       "    <tr>\n",
       "      <th>0</th>\n",
       "      <td>254099</td>\n",
       "      <td>Apartamento</td>\n",
       "      <td>2.0</td>\n",
       "      <td>1.0</td>\n",
       "      <td>2.0</td>\n",
       "      <td>Benito Juárez</td>\n",
       "      <td>Distrito Federal</td>\n",
       "      <td>80.0</td>\n",
       "      <td>80.0</td>\n",
       "      <td>23533.0</td>\n",
       "      <td>2015-08-23</td>\n",
       "      <td>0.0</td>\n",
       "      <td>0.0</td>\n",
       "      <td>0.0</td>\n",
       "      <td>0.0</td>\n",
       "      <td>0.0</td>\n",
       "      <td>135683.671398</td>\n",
       "    </tr>\n",
       "    <tr>\n",
       "      <th>1</th>\n",
       "      <td>53461</td>\n",
       "      <td>Casa en condominio</td>\n",
       "      <td>3.0</td>\n",
       "      <td>2.0</td>\n",
       "      <td>2.0</td>\n",
       "      <td>La Magdalena Contreras</td>\n",
       "      <td>Distrito Federal</td>\n",
       "      <td>268.0</td>\n",
       "      <td>180.0</td>\n",
       "      <td>24514.0</td>\n",
       "      <td>2013-06-28</td>\n",
       "      <td>0.0</td>\n",
       "      <td>0.0</td>\n",
       "      <td>0.0</td>\n",
       "      <td>1.0</td>\n",
       "      <td>1.0</td>\n",
       "      <td>278078.170864</td>\n",
       "    </tr>\n",
       "    <tr>\n",
       "      <th>2</th>\n",
       "      <td>247984</td>\n",
       "      <td>Casa</td>\n",
       "      <td>3.0</td>\n",
       "      <td>2.0</td>\n",
       "      <td>2.0</td>\n",
       "      <td>Tonalá</td>\n",
       "      <td>Jalisco</td>\n",
       "      <td>144.0</td>\n",
       "      <td>166.0</td>\n",
       "      <td>48551.0</td>\n",
       "      <td>2015-10-17</td>\n",
       "      <td>0.0</td>\n",
       "      <td>0.0</td>\n",
       "      <td>0.0</td>\n",
       "      <td>0.0</td>\n",
       "      <td>0.0</td>\n",
       "      <td>72727.272727</td>\n",
       "    </tr>\n",
       "    <tr>\n",
       "      <th>3</th>\n",
       "      <td>209067</td>\n",
       "      <td>Casa</td>\n",
       "      <td>2.0</td>\n",
       "      <td>1.0</td>\n",
       "      <td>1.0</td>\n",
       "      <td>Zinacantepec</td>\n",
       "      <td>Edo. de México</td>\n",
       "      <td>63.0</td>\n",
       "      <td>67.0</td>\n",
       "      <td>53666.0</td>\n",
       "      <td>2012-03-09</td>\n",
       "      <td>0.0</td>\n",
       "      <td>0.0</td>\n",
       "      <td>0.0</td>\n",
       "      <td>1.0</td>\n",
       "      <td>1.0</td>\n",
       "      <td>50753.494183</td>\n",
       "    </tr>\n",
       "    <tr>\n",
       "      <th>4</th>\n",
       "      <td>185997</td>\n",
       "      <td>Apartamento</td>\n",
       "      <td>2.0</td>\n",
       "      <td>1.0</td>\n",
       "      <td>1.0</td>\n",
       "      <td>Zapopan</td>\n",
       "      <td>Jalisco</td>\n",
       "      <td>95.0</td>\n",
       "      <td>95.0</td>\n",
       "      <td>47835.0</td>\n",
       "      <td>2016-06-07</td>\n",
       "      <td>0.0</td>\n",
       "      <td>0.0</td>\n",
       "      <td>0.0</td>\n",
       "      <td>0.0</td>\n",
       "      <td>0.0</td>\n",
       "      <td>62910.284464</td>\n",
       "    </tr>\n",
       "  </tbody>\n",
       "</table>\n",
       "</div>"
      ],
      "text/plain": [
       "       id     tipodepropiedad  habitaciones  garages  banos  \\\n",
       "0  254099         Apartamento           2.0      1.0    2.0   \n",
       "1   53461  Casa en condominio           3.0      2.0    2.0   \n",
       "2  247984                Casa           3.0      2.0    2.0   \n",
       "3  209067                Casa           2.0      1.0    1.0   \n",
       "4  185997         Apartamento           2.0      1.0    1.0   \n",
       "\n",
       "                   ciudad         provincia  metroscubiertos  metrostotales  \\\n",
       "0           Benito Juárez  Distrito Federal             80.0           80.0   \n",
       "1  La Magdalena Contreras  Distrito Federal            268.0          180.0   \n",
       "2                  Tonalá           Jalisco            144.0          166.0   \n",
       "3            Zinacantepec    Edo. de México             63.0           67.0   \n",
       "4                 Zapopan           Jalisco             95.0           95.0   \n",
       "\n",
       "    idzona      fecha  gimnasio  usosmultiples  piscina  escuelascercanas  \\\n",
       "0  23533.0 2015-08-23       0.0            0.0      0.0               0.0   \n",
       "1  24514.0 2013-06-28       0.0            0.0      0.0               1.0   \n",
       "2  48551.0 2015-10-17       0.0            0.0      0.0               0.0   \n",
       "3  53666.0 2012-03-09       0.0            0.0      0.0               1.0   \n",
       "4  47835.0 2016-06-07       0.0            0.0      0.0               0.0   \n",
       "\n",
       "   centroscomercialescercanos   dollar_price  \n",
       "0                         0.0  135683.671398  \n",
       "1                         1.0  278078.170864  \n",
       "2                         0.0   72727.272727  \n",
       "3                         1.0   50753.494183  \n",
       "4                         0.0   62910.284464  "
      ]
     },
     "execution_count": 288,
     "metadata": {},
     "output_type": "execute_result"
    }
   ],
   "source": [
    "#Arreglando, no pueden haber propiedades con metros cubiertos pero sin metros totales\n",
    "df['metrostotales'].fillna(0, inplace=True)\n",
    "df['metrostotales'] = df.apply(lambda x: asignarMetros(x['metroscubiertos'],x['metrostotales']),axis=1)\n",
    "df.head()"
   ]
  },
  {
   "cell_type": "code",
   "execution_count": 289,
   "metadata": {
    "scrolled": true
   },
   "outputs": [
    {
     "data": {
      "text/plain": [
       "Terreno               9945\n",
       "Bodega comercial      1406\n",
       "Terreno comercial     1326\n",
       "Nave industrial         76\n",
       "Terreno industrial      31\n",
       "Huerta                  20\n",
       "Name: tipodepropiedad, dtype: int64"
      ]
     },
     "execution_count": 289,
     "metadata": {},
     "output_type": "execute_result"
    }
   ],
   "source": [
    "#Filtrando el garage, lotes, hospedaje, otros\n",
    "filtroTerreno = df[\"tipodepropiedad\"].isin([\"Huerta\", \"Nave industrial\", \"Terreno\", \"Terreno comercial\", \n",
    "                                            \"Bodega comercial\", \"Terreno industrial\"])\n",
    "dfTerreno = df[filtroTerreno]\n",
    "dfTerreno.tipodepropiedad.value_counts()"
   ]
  },
  {
   "cell_type": "code",
   "execution_count": 290,
   "metadata": {},
   "outputs": [
    {
     "data": {
      "text/plain": [
       "Terreno               9467\n",
       "Terreno comercial     1254\n",
       "Bodega comercial      1249\n",
       "Nave industrial         63\n",
       "Terreno industrial      28\n",
       "Huerta                  13\n",
       "Name: tipodepropiedad, dtype: int64"
      ]
     },
     "execution_count": 290,
     "metadata": {},
     "output_type": "execute_result"
    }
   ],
   "source": [
    "#Dropeo todos los terrenos que tienen habitaciones ya que si las tienen no serian terrenos.\n",
    "dfTerreno = dfTerreno[dfTerreno[\"habitaciones\"].isna()]\n",
    "dfTerreno.tipodepropiedad.value_counts()"
   ]
  },
  {
   "cell_type": "code",
   "execution_count": 291,
   "metadata": {},
   "outputs": [
    {
     "data": {
      "text/plain": [
       "id                            False\n",
       "tipodepropiedad               False\n",
       "habitaciones                  False\n",
       "garages                       False\n",
       "banos                         False\n",
       "ciudad                         True\n",
       "provincia                      True\n",
       "metroscubiertos               False\n",
       "metrostotales                 False\n",
       "idzona                         True\n",
       "fecha                         False\n",
       "gimnasio                      False\n",
       "usosmultiples                 False\n",
       "piscina                       False\n",
       "escuelascercanas              False\n",
       "centroscomercialescercanos    False\n",
       "dollar_price                  False\n",
       "dtype: bool"
      ]
     },
     "execution_count": 291,
     "metadata": {},
     "output_type": "execute_result"
    }
   ],
   "source": [
    "#Limpiando las propiedades tipo casa, no pueden no tener al menos una habitacion o baño y no pueden\n",
    "#tener metros no cubiertos\n",
    "filtro1 = df[\"tipodepropiedad\"].isin([\"Apartamento\", \"Casa\", \"Casa en condominio\",\n",
    "                                        \"Casa uso de suelo\", \"Rancho\", \"Quinta Vacacional\"])\n",
    "dfCasas = df[filtro1]\n",
    "dfCasas = dfCasas[np.isfinite(dfCasas['habitaciones'])]\n",
    "dfCasas = dfCasas[np.isfinite(dfCasas['banos'])]\n",
    "dfCasas = dfCasas[np.isfinite(dfCasas['metroscubiertos'])]\n",
    "dfCasas.garages.fillna(0, inplace=True)\n",
    "dfCasas.isnull().any()"
   ]
  },
  {
   "cell_type": "code",
   "execution_count": 292,
   "metadata": {},
   "outputs": [
    {
     "data": {
      "text/plain": [
       "Index(['id', 'tipodepropiedad', 'habitaciones', 'garages', 'banos', 'ciudad',\n",
       "       'provincia', 'metroscubiertos', 'metrostotales', 'idzona', 'fecha',\n",
       "       'gimnasio', 'usosmultiples', 'piscina', 'escuelascercanas',\n",
       "       'centroscomercialescercanos', 'dollar_price'],\n",
       "      dtype='object')"
      ]
     },
     "execution_count": 292,
     "metadata": {},
     "output_type": "execute_result"
    }
   ],
   "source": [
    "df = pd.merge(dfCasas, dfTerreno, on=['id', 'tipodepropiedad', 'habitaciones', 'garages', 'banos', 'metroscubiertos'\n",
    "                                      ,'ciudad','provincia','metrostotales','idzona','fecha', 'gimnasio','usosmultiples',\n",
    "                                       'piscina','escuelascercanas','centroscomercialescercanos', 'dollar_price'], how='outer')\n",
    "df.columns"
   ]
  },
  {
   "cell_type": "code",
   "execution_count": 299,
   "metadata": {},
   "outputs": [
    {
     "data": {
      "text/plain": [
       "(213028, 17)"
      ]
     },
     "execution_count": 299,
     "metadata": {},
     "output_type": "execute_result"
    }
   ],
   "source": [
    "df.shape"
   ]
  },
  {
   "cell_type": "code",
   "execution_count": 296,
   "metadata": {},
   "outputs": [
    {
     "data": {
      "text/plain": [
       "Casa                  127228\n",
       "Apartamento            54955\n",
       "Casa en condominio     17936\n",
       "Terreno                 9467\n",
       "Terreno comercial       1254\n",
       "Bodega comercial        1249\n",
       "Casa uso de suelo        386\n",
       "Quinta Vacacional        321\n",
       "Rancho                   128\n",
       "Nave industrial           63\n",
       "Terreno industrial        28\n",
       "Huerta                    13\n",
       "Name: tipodepropiedad, dtype: int64"
      ]
     },
     "execution_count": 296,
     "metadata": {},
     "output_type": "execute_result"
    }
   ],
   "source": [
    "df.tipodepropiedad.value_counts()"
   ]
  }
 ],
 "metadata": {
  "kernelspec": {
   "display_name": "Python 3",
   "language": "python",
   "name": "python3"
  },
  "language_info": {
   "codemirror_mode": {
    "name": "ipython",
    "version": 3
   },
   "file_extension": ".py",
   "mimetype": "text/x-python",
   "name": "python",
   "nbconvert_exporter": "python",
   "pygments_lexer": "ipython3",
   "version": "3.7.3"
  }
 },
 "nbformat": 4,
 "nbformat_minor": 2
}
