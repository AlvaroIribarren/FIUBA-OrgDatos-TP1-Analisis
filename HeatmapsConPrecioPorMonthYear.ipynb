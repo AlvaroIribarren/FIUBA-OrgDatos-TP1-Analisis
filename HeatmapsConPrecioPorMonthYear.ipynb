{
 "cells": [
  {
   "cell_type": "code",
   "execution_count": 1,
   "metadata": {},
   "outputs": [],
   "source": [
    "import pandas as pd\n",
    "import numpy as np\n",
    "import matplotlib.pyplot as plt\n",
    "import seaborn as sns\n",
    "df= pd.read_csv('train.csv')\n",
    "\n",
    "#Drop de cosas que no necesitamos en dolar\n",
    "dolar= pd.read_csv('Datos históricos USD_MXN.csv')\n",
    "dolar.columns = [\"fecha\", \"last\", \"opening\", \"max\", \"min\", \"std\"]\n",
    "dolar.drop([\"std\", \"opening\", \"opening\", \"max\", \"min\"], axis=1 ,inplace=True)\n",
    "\n",
    "#Modificamos dolar para que se parezca al otro DF\n",
    "dolar['date'] = pd.to_datetime(dolar['fecha'], format=\"%b %Y\")\n",
    "dolar.drop([\"fecha\"], axis=1, inplace=True)\n",
    "dolar.columns= ['price', \"date\"]\n",
    "dolar['price'] = dolar['price'].replace(',', '.', regex=True).astype(float)\n",
    "dolar[\"year\"] = dolar.date.dt.year\n",
    "dolar['month'] = dolar.date.dt.month\n",
    "dolar.drop([\"date\"], axis=1, inplace=True)\n",
    "\n",
    "#Hacemos el merge, dejamos el precio dolar y el precio original\n",
    "df['fecha'] = pd.to_datetime(df['fecha'])\n",
    "df['year'] = df['fecha'].dt.year\n",
    "df['month']= df['fecha'].dt.month\n",
    "newDf= pd.merge(df, dolar, on=['year', 'month'], how='left')\n",
    "newDf[\"dollar_price\"] = newDf.apply(lambda row: row[\"precio\"]/row[\"price\"], axis=1)\n",
    "df = newDf.filter([\"id\", \"tipodepropiedad\", \"habitaciones\",'garages', 'banos', 'ciudad',\n",
    "                   'provincia','metroscubiertos', 'metrostotales', 'idzona', 'fecha',\n",
    "                   'gimnasio', 'usosmultiples', 'piscina', 'escuelascercanas',\n",
    "                   'centroscomercialescercanos', 'dollar_price','precio' ])\n",
    "\n",
    "#Creamos la funcion\n",
    "def asignarMetros(metroscubiertos, metrostotales):\n",
    "    if (metroscubiertos != 0 and metrostotales == 0):\n",
    "        return metroscubiertos\n",
    "    else:\n",
    "        return metrostotales\n",
    "    \n",
    "#Arreglando, no pueden haber propiedades con metros cubiertos pero sin metros totales\n",
    "df['metrostotales'].fillna(0, inplace=True)\n",
    "df['metrostotales'] = df.apply(lambda x: asignarMetros(x['metroscubiertos'],x['metrostotales']),axis=1)\n",
    "\n",
    "###### FILTRO DE TERRENO #######\n",
    "filtroTerreno = df[\"tipodepropiedad\"].isin([\"Huerta\", \"Nave industrial\", \"Terreno\", \"Terreno comercial\",                                            \"Bodega comercial\", \"Terreno industrial\"])\n",
    "dfTerreno = df[filtroTerreno]\n",
    "\n",
    "####### FILTRO SI QUEREMOS CASAS Y COSAS COMO CASA #######\n",
    "#Dropeo todos los terrenos que tienen habitaciones ya que si las tienen no serian terrenos.\n",
    "dfTerreno = dfTerreno[dfTerreno[\"habitaciones\"].isna()]\n",
    "\n",
    "#Limpiando las propiedades tipo casa, no pueden no tener al menos una habitacion o baño y no pueden\n",
    "#tener metros no cubiertos\n",
    "filtro1 = df[\"tipodepropiedad\"].isin([\"Apartamento\", \"Casa\", \"Casa en condominio\",\n",
    "                                        \"Casa uso de suelo\", \"Rancho\", \"Quinta Vacacional\"])\n",
    "dfCasas = df[filtro1]\n",
    "dfCasas = dfCasas[np.isfinite(dfCasas['habitaciones'])]\n",
    "dfCasas = dfCasas[np.isfinite(dfCasas['banos'])]\n",
    "dfCasas = dfCasas[np.isfinite(dfCasas['metroscubiertos'])]\n",
    "dfCasas.garages.fillna(0, inplace=True)\n",
    "\n",
    "df = pd.merge(dfCasas, dfTerreno, on=['id', 'tipodepropiedad', 'habitaciones', 'garages', 'banos', 'metroscubiertos'\n",
    "                                      ,'ciudad','provincia','metrostotales','idzona','fecha', 'gimnasio','usosmultiples',\n",
    "                                       'piscina','escuelascercanas','centroscomercialescercanos', 'dollar_price','precio'], how='outer')\n",
    "\n",
    "\n",
    "#### DE ACA EN ADELANTE, USAR DF #####"
   ]
  },
  {
   "cell_type": "code",
   "execution_count": 2,
   "metadata": {},
   "outputs": [],
   "source": [
    "df2 = df\n",
    "df2['fecha_month'] = df2['fecha'].dt.month\n",
    "df2['fecha_year'] = df2['fecha'].dt.year\n",
    "for_heatmap_mexican = df2.pivot_table(index='fecha_year', columns='fecha_month', values='dollar_price', aggfunc='mean')\n",
    "for_heatmap_dollar = df2.pivot_table(index='fecha_year', columns='fecha_month', values='precio', aggfunc='mean')\n"
   ]
  },
  {
   "cell_type": "code",
   "execution_count": 3,
   "metadata": {},
   "outputs": [
    {
     "data": {
      "image/png": "[encoded data removed]",
      "text/plain": [
       "<matplotlib.figure.Figure at 0x7f6a2c15b470>"
      ]
     },
     "metadata": {
      "needs_background": "light"
     },
     "output_type": "display_data"
    }
   ],
   "source": [
    "g = sns.heatmap(for_heatmap_mexican,  cmap=\"YlGnBu\")"
   ]
  },
  {
   "cell_type": "code",
   "execution_count": 4,
   "metadata": {},
   "outputs": [
    {
     "data": {
      "image/png": "[encoded data removed]",
      "text/plain": [
       "<matplotlib.figure.Figure at 0x7f69ff349d30>"
      ]
     },
     "metadata": {
      "needs_background": "light"
     },
     "output_type": "display_data"
    }
   ],
   "source": [
    "h = sns.heatmap(for_heatmap_dollar, cmap=\"YlGnBu\")"
   ]
  },
  {
   "cell_type": "code",
   "execution_count": null,
   "metadata": {},
   "outputs": [],
   "source": []
  }
 ],
 "metadata": {
  "kernelspec": {
   "display_name": "Python 3",
   "language": "python",
   "name": "python3"
  },
  "language_info": {
   "codemirror_mode": {
    "name": "ipython",
    "version": 3
   },
   "file_extension": ".py",
   "mimetype": "text/x-python",
   "name": "python",
   "nbconvert_exporter": "python",
   "pygments_lexer": "ipython3",
   "version": "3.6.8"
  }
 },
 "nbformat": 4,
 "nbformat_minor": 2
}
